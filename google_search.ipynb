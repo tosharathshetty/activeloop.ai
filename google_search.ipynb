{
 "cells": [
  {
   "cell_type": "code",
   "execution_count": 1,
   "metadata": {},
   "outputs": [],
   "source": [
    "import os\n",
    "from os.path import join, dirname\n",
    "from dotenv import load_dotenv\n",
    "from setuptools import setup\n",
    "\n",
    "from pathlib import Path\n",
    "\n",
    "cwd = Path().resolve()\n",
    "# or this\n",
    "cwd = Path.cwd()\n",
    "\n",
    "# dotenv_path = join(dirname(__file__), '.env')\n",
    "# print(dotenv_path)\n",
    "\n",
    "load_dotenv()\n",
    "\n",
    "OPENAI_API_KEY = os.environ.get(\"OPENAI_API_KEY\")\n",
    "ACTIVELOOP_TOKEN = os.environ.get(\"ACTIVELOOP_TOKEN\")\n",
    "GOOGLE_API_KEY=os.environ.get(\"GOOGLE_API_KEY\")\n",
    "GOOGLE_CSE_ID=os.environ.get(\"GOOGLE_CSE_ID\")\n",
    "# print(ACTIVELOOP_TOKEN)"
   ]
  },
  {
   "cell_type": "code",
   "execution_count": 2,
   "metadata": {},
   "outputs": [
    {
     "name": "stdout",
     "output_type": "stream",
     "text": [
      "\n",
      "\n",
      "\u001b[1m> Entering new  chain...\u001b[0m\n",
      "\u001b[32;1m\u001b[1;3m I should search for recent news about the Mars rover and then summarize the results.\n",
      "Action: Search\n",
      "Action Input: Latest news about the Mars rover\u001b[0m\n",
      "Observation: \u001b[36;1m\u001b[1;3mMars 2020 Perseverance Rover · The largest and most capable rover ever sent to Mars. ... Curiosity Rover · Measures Mars' atmosphere to understand its climate ... Dec 15, 2021 ... Mars Sample Return is going to have great stuff to choose from!” Get the Latest JPL News. SUBSCRIBE TO THE NEWSLETTER. The mission has concluded that the solar-powered lander has run out of energy after more than four years on the Red Planet. Oct 19, 2022 ... NASA's Curiosity Mars rover used its Mast Camera, or Mastcam, to capture this panorama of a hill nicknamed ... Get the Latest JPL News. NASA's Mars 2020 Perseverance rover will look for signs of past microbial life, cache rock and soil samples, and prepare for future human exploration. Aug 5, 2022 ... NASA's Curiosity Mars rover set out to answer a big question when it ... an update on the rover's capabilities a decade after landing in ... Curiosity rover finds water-carved 'book' rock on Mars (photo) ... A book-shaped rock on Mars was likely carved by ancient water running through the area, ... Feb 8, 2023 ... Curiosity Rover Finds New Clues to Mars' Watery Past ... at Gediz Vallis Ridge twice last year but could only survey it from a distance. Apr 25, 2023 ... China's Mars rover, which has been in longer-than-expected hibernation on the red planet since May 2022, has likely suffered excessive ... Mar 7, 2023 ... 27, helps provide scientists with information about the particle sizes within the clouds. Sign up for National Breaking News Alerts.\u001b[0m\n",
      "Thought:\u001b[32;1m\u001b[1;3m I should summarize the results of the search.\n",
      "Action: Summarizer\n",
      "Action Input: Mars 2020 Perseverance Rover is the largest and most capable rover ever sent to Mars. Curiosity Rover measures Mars' atmosphere to understand its climate. Mars Sample Return is going to have great stuff to choose from. The mission has concluded that the solar-powered lander has run out of energy after more than four years on the Red Planet. NASA's Mars 2020 Perseverance rover will look for signs of past microbial life, cache rock and soil samples, and prepare for future human exploration. Curiosity rover finds water-carved 'book' rock on Mars. China's Mars rover has been in longer-than-expected hibernation on the red planet since May 2022. 27 helps provide scientists with information about the particle sizes within the clouds.\u001b[0m"
     ]
    },
    {
     "name": "stderr",
     "output_type": "stream",
     "text": [
      "Retrying langchain.llms.openai.completion_with_retry.<locals>._completion_with_retry in 4.0 seconds as it raised RateLimitError: Rate limit reached for default-text-davinci-003 in organization org-LdyhJz4UHxENb14dOpODugOe on requests per min. Limit: 3 / min. Please try again in 20s. Contact us through our help center at help.openai.com if you continue to have issues. Please add a payment method to your account to increase your rate limit. Visit https://platform.openai.com/account/billing to add a payment method..\n"
     ]
    },
    {
     "name": "stdout",
     "output_type": "stream",
     "text": [
      "\n",
      "Observation: \u001b[33;1m\u001b[1;3m\n",
      "\n",
      "NASA's Mars 2020 Perseverance rover is the largest and most capable rover ever sent to Mars. It will search for signs of past microbial life, cache rock and soil samples, and prepare for future human exploration. The Curiosity rover is measuring Mars' atmosphere to understand its climate, and has found a water-carved 'book' rock on the planet. China's Mars rover has been in a longer-than-expected hibernation since May 2022. The Mars Sample Return mission will provide scientists with a great selection of samples to choose from. The solar-powered lander has run out of energy after more than four years on the Red Planet. The 27 mission helps provide scientists with information about the particle sizes within the clouds.\u001b[0m\n",
      "Thought:"
     ]
    },
    {
     "name": "stderr",
     "output_type": "stream",
     "text": [
      "Retrying langchain.llms.openai.completion_with_retry.<locals>._completion_with_retry in 4.0 seconds as it raised RateLimitError: Rate limit reached for default-text-davinci-003 in organization org-LdyhJz4UHxENb14dOpODugOe on requests per min. Limit: 3 / min. Please try again in 20s. Contact us through our help center at help.openai.com if you continue to have issues. Please add a payment method to your account to increase your rate limit. Visit https://platform.openai.com/account/billing to add a payment method..\n",
      "Retrying langchain.llms.openai.completion_with_retry.<locals>._completion_with_retry in 4.0 seconds as it raised RateLimitError: Rate limit reached for default-text-davinci-003 in organization org-LdyhJz4UHxENb14dOpODugOe on requests per min. Limit: 3 / min. Please try again in 20s. Contact us through our help center at help.openai.com if you continue to have issues. Please add a payment method to your account to increase your rate limit. Visit https://platform.openai.com/account/billing to add a payment method..\n"
     ]
    },
    {
     "name": "stdout",
     "output_type": "stream",
     "text": [
      "\u001b[32;1m\u001b[1;3m I now know the final answer.\n",
      "Final Answer: NASA's Mars 2020 Perseverance rover is the largest and most capable rover ever sent to Mars. It will search for signs of past microbial life, cache rock and soil samples, and prepare for future human exploration. The Curiosity rover is measuring Mars' atmosphere to understand its climate, and has found a water-carved 'book' rock on the planet. China's Mars rover has been in a longer-than-expected hibernation since May 2022. The Mars Sample Return mission will provide scientists with a great selection of samples to choose from. The solar-powered lander has run out of energy after more than four years on the Red Planet. The 27 mission helps provide scientists with information about the particle sizes within the clouds.\u001b[0m\n",
      "\n",
      "\u001b[1m> Finished chain.\u001b[0m\n",
      "NASA's Mars 2020 Perseverance rover is the largest and most capable rover ever sent to Mars. It will search for signs of past microbial life, cache rock and soil samples, and prepare for future human exploration. The Curiosity rover is measuring Mars' atmosphere to understand its climate, and has found a water-carved 'book' rock on the planet. China's Mars rover has been in a longer-than-expected hibernation since May 2022. The Mars Sample Return mission will provide scientists with a great selection of samples to choose from. The solar-powered lander has run out of energy after more than four years on the Red Planet. The 27 mission helps provide scientists with information about the particle sizes within the clouds.\n"
     ]
    }
   ],
   "source": [
    "from langchain.llms import OpenAI\n",
    "from langchain.agents import Tool\n",
    "from langchain.utilities import GoogleSearchAPIWrapper\n",
    "from langchain.prompts import PromptTemplate\n",
    "from langchain.chains import LLMChain\n",
    "from langchain.agents import initialize_agent, AgentType\n",
    "\n",
    "llm = OpenAI(model=\"text-davinci-003\", temperature=0)\n",
    "\n",
    "prompt = PromptTemplate(\n",
    "    input_variables=[\"query\"],\n",
    "    template=\"Write a summary of the following text: {query}\"\n",
    ")\n",
    "\n",
    "\n",
    "summarize_chain = LLMChain(llm=llm, prompt=prompt)\n",
    "\n",
    "# remember to set the environment variables\n",
    "# “GOOGLE_API_KEY” and “GOOGLE_CSE_ID” to be able to use\n",
    "# Google Search via API.\n",
    "search = GoogleSearchAPIWrapper()\n",
    "\n",
    "tools = [\n",
    "    Tool(\n",
    "        name=\"Search\",\n",
    "        func=search.run,\n",
    "        description=\"useful for finding information about recent events\"\n",
    "    ),\n",
    "    Tool(\n",
    "       name='Summarizer',\n",
    "       func=summarize_chain.run,\n",
    "       description='useful for summarizing texts'\n",
    "    )\n",
    "]\n",
    "\n",
    "agent = initialize_agent(\n",
    "    tools,\n",
    "    llm,\n",
    "    agent=AgentType.ZERO_SHOT_REACT_DESCRIPTION,\n",
    "    verbose=True  \n",
    ")\n",
    "\n",
    "response = agent(\"What's the latest news about the Mars rover? Then please summarize the results.\")\n",
    "print(response['output'])"
   ]
  }
 ],
 "metadata": {
  "kernelspec": {
   "display_name": "Python 3",
   "language": "python",
   "name": "python3"
  },
  "language_info": {
   "codemirror_mode": {
    "name": "ipython",
    "version": 3
   },
   "file_extension": ".py",
   "mimetype": "text/x-python",
   "name": "python",
   "nbconvert_exporter": "python",
   "pygments_lexer": "ipython3",
   "version": "3.10.4"
  },
  "orig_nbformat": 4
 },
 "nbformat": 4,
 "nbformat_minor": 2
}
