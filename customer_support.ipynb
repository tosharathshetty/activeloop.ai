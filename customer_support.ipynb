{
 "cells": [
  {
   "cell_type": "code",
   "execution_count": 5,
   "metadata": {},
   "outputs": [],
   "source": [
    "import os\n",
    "from os.path import join, dirname\n",
    "from dotenv import load_dotenv\n",
    "from setuptools import setup\n",
    "\n",
    "from pathlib import Path\n",
    "\n",
    "cwd = Path().resolve()\n",
    "# or this\n",
    "cwd = Path.cwd()\n",
    "\n",
    "# dotenv_path = join(dirname(__file__), '.env')\n",
    "# print(dotenv_path)\n",
    "\n",
    "load_dotenv()\n",
    "\n",
    "OPENAI_API_KEY = os.environ.get(\"OPENAI_API_KEY\")\n",
    "ACTIVELOOP_TOKEN = os.environ.get(\"ACTIVELOOP_TOKEN\")\n",
    "GOOGLE_API_KEY=os.environ.get(\"GOOGLE_API_KEY\")\n",
    "GOOGLE_CSE_ID=os.environ.get(\"GOOGLE_CSE_ID\")\n",
    "HUGGINGFACEHUB_API_TOKEN=os.environ.get(\"HUGGINGFACEHUB_API_TOKEN\")\n",
    "MY_ACTIVELOOP_ORG_ID=os.environ.get(\"MY_ACTIVELOOP_ORG_ID\")\n",
    "# print(ACTIVELOOP_TOKEN)"
   ]
  },
  {
   "cell_type": "code",
   "execution_count": 1,
   "metadata": {},
   "outputs": [],
   "source": [
    "from langchain.embeddings.openai import OpenAIEmbeddings\n",
    "from langchain.vectorstores import DeepLake\n",
    "from langchain.text_splitter import CharacterTextSplitter\n",
    "from langchain import OpenAI\n",
    "from langchain.document_loaders import SeleniumURLLoader\n",
    "from langchain import PromptTemplate"
   ]
  },
  {
   "cell_type": "code",
   "execution_count": 2,
   "metadata": {},
   "outputs": [],
   "source": [
    "# we'll use information from the following articles\n",
    "urls = ['https://beebom.com/what-is-nft-explained/',\n",
    "        'https://beebom.com/how-delete-spotify-account/',\n",
    "        'https://beebom.com/how-download-gif-twitter/',\n",
    "        'https://beebom.com/how-use-chatgpt-linux-terminal/',\n",
    "        'https://beebom.com/how-delete-spotify-account/',\n",
    "        'https://beebom.com/how-save-instagram-story-with-music/',\n",
    "        'https://beebom.com/how-install-pip-windows/',\n",
    "        'https://beebom.com/how-check-disk-usage-linux/']"
   ]
  },
  {
   "cell_type": "code",
   "execution_count": 3,
   "metadata": {},
   "outputs": [
    {
     "name": "stderr",
     "output_type": "stream",
     "text": [
      "Error getting version of chromedriver 115. Retrying with chromedriver 114 (attempt 1/5)\n",
      "Created a chunk of size 1226, which is longer than the specified 1000\n"
     ]
    }
   ],
   "source": [
    "# use the selenium scraper to load the documents\n",
    "loader = SeleniumURLLoader(urls=urls)\n",
    "docs_not_splitted = loader.load()\n",
    "\n",
    "# we split the documents into smaller chunks\n",
    "text_splitter = CharacterTextSplitter(chunk_size=1000, chunk_overlap=0)\n",
    "docs = text_splitter.split_documents(docs_not_splitted)"
   ]
  },
  {
   "cell_type": "code",
   "execution_count": 6,
   "metadata": {},
   "outputs": [
    {
     "name": "stdout",
     "output_type": "stream",
     "text": [
      "Your Deep Lake dataset has been successfully created!\n"
     ]
    },
    {
     "name": "stderr",
     "output_type": "stream",
     "text": [
      "|"
     ]
    },
    {
     "name": "stdout",
     "output_type": "stream",
     "text": [
      "Dataset(path='hub://sharathshetty/langchain_course_customer_support', tensors=['embedding', 'id', 'metadata', 'text'])\n",
      "\n",
      "  tensor      htype       shape      dtype  compression\n",
      "  -------    -------     -------    -------  ------- \n",
      " embedding  embedding  (127, 1536)  float32   None   \n",
      "    id        text      (127, 1)      str     None   \n",
      " metadata     json      (127, 1)      str     None   \n",
      "   text       text      (127, 1)      str     None   \n"
     ]
    },
    {
     "name": "stderr",
     "output_type": "stream",
     "text": [
      " \r"
     ]
    },
    {
     "data": {
      "text/plain": [
       "['12b9a1ce-2a59-11ee-9ba3-00155dc34031',\n",
       " '12b9a296-2a59-11ee-9ba3-00155dc34031',\n",
       " '12b9a2d2-2a59-11ee-9ba3-00155dc34031',\n",
       " '12b9a304-2a59-11ee-9ba3-00155dc34031',\n",
       " '12b9a336-2a59-11ee-9ba3-00155dc34031',\n",
       " '12b9a368-2a59-11ee-9ba3-00155dc34031',\n",
       " '12b9a390-2a59-11ee-9ba3-00155dc34031',\n",
       " '12b9a3c2-2a59-11ee-9ba3-00155dc34031',\n",
       " '12b9a3f4-2a59-11ee-9ba3-00155dc34031',\n",
       " '12b9a426-2a59-11ee-9ba3-00155dc34031',\n",
       " '12b9a44e-2a59-11ee-9ba3-00155dc34031',\n",
       " '12b9a480-2a59-11ee-9ba3-00155dc34031',\n",
       " '12b9a4a8-2a59-11ee-9ba3-00155dc34031',\n",
       " '12b9a4da-2a59-11ee-9ba3-00155dc34031',\n",
       " '12b9a50c-2a59-11ee-9ba3-00155dc34031',\n",
       " '12b9a534-2a59-11ee-9ba3-00155dc34031',\n",
       " '12b9a566-2a59-11ee-9ba3-00155dc34031',\n",
       " '12b9a58e-2a59-11ee-9ba3-00155dc34031',\n",
       " '12b9a5c0-2a59-11ee-9ba3-00155dc34031',\n",
       " '12b9a5f2-2a59-11ee-9ba3-00155dc34031',\n",
       " '12b9a61a-2a59-11ee-9ba3-00155dc34031',\n",
       " '12b9a64c-2a59-11ee-9ba3-00155dc34031',\n",
       " '12b9a674-2a59-11ee-9ba3-00155dc34031',\n",
       " '12b9a6a6-2a59-11ee-9ba3-00155dc34031',\n",
       " '12b9a6d8-2a59-11ee-9ba3-00155dc34031',\n",
       " '12b9a700-2a59-11ee-9ba3-00155dc34031',\n",
       " '12b9a732-2a59-11ee-9ba3-00155dc34031',\n",
       " '12b9a75a-2a59-11ee-9ba3-00155dc34031',\n",
       " '12b9a78c-2a59-11ee-9ba3-00155dc34031',\n",
       " '12b9a7b4-2a59-11ee-9ba3-00155dc34031',\n",
       " '12b9a7e6-2a59-11ee-9ba3-00155dc34031',\n",
       " '12b9a818-2a59-11ee-9ba3-00155dc34031',\n",
       " '12b9a840-2a59-11ee-9ba3-00155dc34031',\n",
       " '12b9a872-2a59-11ee-9ba3-00155dc34031',\n",
       " '12b9a89a-2a59-11ee-9ba3-00155dc34031',\n",
       " '12b9a8cc-2a59-11ee-9ba3-00155dc34031',\n",
       " '12b9a8f4-2a59-11ee-9ba3-00155dc34031',\n",
       " '12b9a926-2a59-11ee-9ba3-00155dc34031',\n",
       " '12b9a96c-2a59-11ee-9ba3-00155dc34031',\n",
       " '12b9a99e-2a59-11ee-9ba3-00155dc34031',\n",
       " '12b9a9c6-2a59-11ee-9ba3-00155dc34031',\n",
       " '12b9a9f8-2a59-11ee-9ba3-00155dc34031',\n",
       " '12b9aa2a-2a59-11ee-9ba3-00155dc34031',\n",
       " '12b9aa52-2a59-11ee-9ba3-00155dc34031',\n",
       " '12b9aa84-2a59-11ee-9ba3-00155dc34031',\n",
       " '12b9aab6-2a59-11ee-9ba3-00155dc34031',\n",
       " '12b9aade-2a59-11ee-9ba3-00155dc34031',\n",
       " '12b9ab10-2a59-11ee-9ba3-00155dc34031',\n",
       " '12b9ab38-2a59-11ee-9ba3-00155dc34031',\n",
       " '12b9ab6a-2a59-11ee-9ba3-00155dc34031',\n",
       " '12b9ab92-2a59-11ee-9ba3-00155dc34031',\n",
       " '12b9abc4-2a59-11ee-9ba3-00155dc34031',\n",
       " '12b9abec-2a59-11ee-9ba3-00155dc34031',\n",
       " '12b9ac1e-2a59-11ee-9ba3-00155dc34031',\n",
       " '12b9ac50-2a59-11ee-9ba3-00155dc34031',\n",
       " '12b9ac78-2a59-11ee-9ba3-00155dc34031',\n",
       " '12b9acaa-2a59-11ee-9ba3-00155dc34031',\n",
       " '12b9acd2-2a59-11ee-9ba3-00155dc34031',\n",
       " '12b9ad04-2a59-11ee-9ba3-00155dc34031',\n",
       " '12b9ad2c-2a59-11ee-9ba3-00155dc34031',\n",
       " '12b9ad5e-2a59-11ee-9ba3-00155dc34031',\n",
       " '12b9ad90-2a59-11ee-9ba3-00155dc34031',\n",
       " '12b9adb8-2a59-11ee-9ba3-00155dc34031',\n",
       " '12b9adea-2a59-11ee-9ba3-00155dc34031',\n",
       " '12b9ae12-2a59-11ee-9ba3-00155dc34031',\n",
       " '12b9ae44-2a59-11ee-9ba3-00155dc34031',\n",
       " '12b9ae6c-2a59-11ee-9ba3-00155dc34031',\n",
       " '12b9ae9e-2a59-11ee-9ba3-00155dc34031',\n",
       " '12b9aec6-2a59-11ee-9ba3-00155dc34031',\n",
       " '12b9aef8-2a59-11ee-9ba3-00155dc34031',\n",
       " '12b9af20-2a59-11ee-9ba3-00155dc34031',\n",
       " '12b9af52-2a59-11ee-9ba3-00155dc34031',\n",
       " '12b9af84-2a59-11ee-9ba3-00155dc34031',\n",
       " '12b9afac-2a59-11ee-9ba3-00155dc34031',\n",
       " '12b9afde-2a59-11ee-9ba3-00155dc34031',\n",
       " '12b9b006-2a59-11ee-9ba3-00155dc34031',\n",
       " '12b9b038-2a59-11ee-9ba3-00155dc34031',\n",
       " '12b9b06a-2a59-11ee-9ba3-00155dc34031',\n",
       " '12b9b092-2a59-11ee-9ba3-00155dc34031',\n",
       " '12b9b0c4-2a59-11ee-9ba3-00155dc34031',\n",
       " '12b9b0f6-2a59-11ee-9ba3-00155dc34031',\n",
       " '12b9b132-2a59-11ee-9ba3-00155dc34031',\n",
       " '12b9b15a-2a59-11ee-9ba3-00155dc34031',\n",
       " '12b9b18c-2a59-11ee-9ba3-00155dc34031',\n",
       " '12b9b1b4-2a59-11ee-9ba3-00155dc34031',\n",
       " '12b9b1e6-2a59-11ee-9ba3-00155dc34031',\n",
       " '12b9b218-2a59-11ee-9ba3-00155dc34031',\n",
       " '12b9b240-2a59-11ee-9ba3-00155dc34031',\n",
       " '12b9b272-2a59-11ee-9ba3-00155dc34031',\n",
       " '12b9b29a-2a59-11ee-9ba3-00155dc34031',\n",
       " '12b9b2cc-2a59-11ee-9ba3-00155dc34031',\n",
       " '12b9b2fe-2a59-11ee-9ba3-00155dc34031',\n",
       " '12b9b326-2a59-11ee-9ba3-00155dc34031',\n",
       " '12b9b358-2a59-11ee-9ba3-00155dc34031',\n",
       " '12b9b380-2a59-11ee-9ba3-00155dc34031',\n",
       " '12b9b3b2-2a59-11ee-9ba3-00155dc34031',\n",
       " '12b9b3e4-2a59-11ee-9ba3-00155dc34031',\n",
       " '12b9b40c-2a59-11ee-9ba3-00155dc34031',\n",
       " '12b9b43e-2a59-11ee-9ba3-00155dc34031',\n",
       " '12b9b466-2a59-11ee-9ba3-00155dc34031',\n",
       " '12b9b498-2a59-11ee-9ba3-00155dc34031',\n",
       " '12b9b4c0-2a59-11ee-9ba3-00155dc34031',\n",
       " '12b9b4f2-2a59-11ee-9ba3-00155dc34031',\n",
       " '12b9b524-2a59-11ee-9ba3-00155dc34031',\n",
       " '12b9b54c-2a59-11ee-9ba3-00155dc34031',\n",
       " '12b9b57e-2a59-11ee-9ba3-00155dc34031',\n",
       " '12b9b5a6-2a59-11ee-9ba3-00155dc34031',\n",
       " '12b9b5d8-2a59-11ee-9ba3-00155dc34031',\n",
       " '12b9b600-2a59-11ee-9ba3-00155dc34031',\n",
       " '12b9b632-2a59-11ee-9ba3-00155dc34031',\n",
       " '12b9b664-2a59-11ee-9ba3-00155dc34031',\n",
       " '12b9b68c-2a59-11ee-9ba3-00155dc34031',\n",
       " '12b9b6be-2a59-11ee-9ba3-00155dc34031',\n",
       " '12b9b6e6-2a59-11ee-9ba3-00155dc34031',\n",
       " '12b9b718-2a59-11ee-9ba3-00155dc34031',\n",
       " '12b9b74a-2a59-11ee-9ba3-00155dc34031',\n",
       " '12b9b772-2a59-11ee-9ba3-00155dc34031',\n",
       " '12b9b7a4-2a59-11ee-9ba3-00155dc34031',\n",
       " '12b9b7cc-2a59-11ee-9ba3-00155dc34031',\n",
       " '12b9b7fe-2a59-11ee-9ba3-00155dc34031',\n",
       " '12b9b826-2a59-11ee-9ba3-00155dc34031',\n",
       " '12b9b858-2a59-11ee-9ba3-00155dc34031',\n",
       " '12b9b880-2a59-11ee-9ba3-00155dc34031',\n",
       " '12b9b8b2-2a59-11ee-9ba3-00155dc34031',\n",
       " '12b9b8e4-2a59-11ee-9ba3-00155dc34031',\n",
       " '12b9b916-2a59-11ee-9ba3-00155dc34031',\n",
       " '12b9b948-2a59-11ee-9ba3-00155dc34031']"
      ]
     },
     "execution_count": 6,
     "metadata": {},
     "output_type": "execute_result"
    }
   ],
   "source": [
    "# Before executing the following code, make sure to have\n",
    "# your OpenAI key saved in the “OPENAI_API_KEY” environment variable.\n",
    "embeddings = OpenAIEmbeddings(model=\"text-embedding-ada-002\")\n",
    "\n",
    "# create Deep Lake dataset\n",
    "# TODO: use your organization id here. (by default, org id is your username)\n",
    "my_activeloop_org_id = MY_ACTIVELOOP_ORG_ID\n",
    "my_activeloop_dataset_name = \"langchain_course_customer_support\"\n",
    "dataset_path = f\"hub://{my_activeloop_org_id}/{my_activeloop_dataset_name}\"\n",
    "db = DeepLake(dataset_path=dataset_path, embedding_function=embeddings)\n",
    "\n",
    "# add documents to our Deep Lake dataset\n",
    "db.add_documents(docs)"
   ]
  },
  {
   "cell_type": "code",
   "execution_count": 7,
   "metadata": {},
   "outputs": [
    {
     "name": "stdout",
     "output_type": "stream",
     "text": [
      "Home  Tech  How to Check Disk Usage in Linux (4 Methods)\n",
      "\n",
      "How to Check Disk Usage in Linux (4 Methods)\n",
      "\n",
      "Beebom Staff\n",
      "\n",
      "Last Updated: June 19, 2023 5:14 pm\n",
      "\n",
      "There may be times when you need to download some important files or transfer some photos to your Linux system, but face a problem of insufficient disk space. You head over to your file manager to delete the large files which you no longer require, but you have no clue which of them are occupying most of your disk space. In this article, we will show some easy methods to check disk usage in Linux from both the terminal and the GUI application.\n",
      "\n",
      "Monitor Disk Usage in Linux (2023)\n",
      "\n",
      "Table of Contents\n",
      "\n",
      "Check Disk Space Using the df Command\n",
      "\t\t\n",
      "Display Disk Usage in Human Readable FormatDisplay Disk Occupancy of a Particular Type\n",
      "\n",
      "Check Disk Usage using the du Command\n",
      "\t\t\n",
      "Display Disk Usage in Human Readable FormatDisplay Disk Usage for a Particular DirectoryCompare Disk Usage of Two Directories\n"
     ]
    }
   ],
   "source": [
    "# let's see the top relevant documents to a specific query\n",
    "query = \"how to check disk usage in linux?\"\n",
    "docs = db.similarity_search(query)\n",
    "print(docs[0].page_content)"
   ]
  },
  {
   "cell_type": "code",
   "execution_count": 8,
   "metadata": {},
   "outputs": [],
   "source": [
    "# let's write a prompt for a customer support chatbot that\n",
    "# answer questions using information extracted from our db\n",
    "template = \"\"\"You are an exceptional customer support chatbot that gently answer questions.\n",
    "\n",
    "You know the following context information.\n",
    "\n",
    "{chunks_formatted}\n",
    "\n",
    "Answer to the following question from a customer. Use only information from the previous context information. Do not invent stuff.\n",
    "\n",
    "Question: {query}\n",
    "\n",
    "Answer:\"\"\"\n",
    "\n",
    "prompt = PromptTemplate(\n",
    "    input_variables=[\"chunks_formatted\", \"query\"],\n",
    "    template=template,\n",
    ")"
   ]
  },
  {
   "cell_type": "code",
   "execution_count": 9,
   "metadata": {},
   "outputs": [
    {
     "name": "stdout",
     "output_type": "stream",
     "text": [
      " You can check disk usage in Linux using the df command or by using a GUI tool such as the GDU Disk Usage Analyzer or the Gnome Disks Tool. The df command is used to check the current disk usage and the available disk space in Linux. The syntax for the df command is: df <options> <file_system>. The options to use with the df command are: a, h, t, and x. To install the GDU Disk Usage Analyzer, use the command: sudo snap install gdu-disk-usage-analyzer. To install the Gnome Disks Tool, use the command: sudo apt-get -y install gnome-disk-utility.\n"
     ]
    }
   ],
   "source": [
    "# the full pipeline\n",
    "\n",
    "# user question\n",
    "query = \"How to check disk usage in linux?\"\n",
    "\n",
    "# retrieve relevant chunks\n",
    "docs = db.similarity_search(query)\n",
    "retrieved_chunks = [doc.page_content for doc in docs]\n",
    "\n",
    "# format the prompt\n",
    "chunks_formatted = \"\\n\\n\".join(retrieved_chunks)\n",
    "prompt_formatted = prompt.format(chunks_formatted=chunks_formatted, query=query)\n",
    "\n",
    "# generate answer\n",
    "llm = OpenAI(model=\"text-davinci-003\", temperature=0)\n",
    "answer = llm(prompt_formatted)\n",
    "print(answer)"
   ]
  }
 ],
 "metadata": {
  "kernelspec": {
   "display_name": "py310",
   "language": "python",
   "name": "python3"
  },
  "language_info": {
   "codemirror_mode": {
    "name": "ipython",
    "version": 3
   },
   "file_extension": ".py",
   "mimetype": "text/x-python",
   "name": "python",
   "nbconvert_exporter": "python",
   "pygments_lexer": "ipython3",
   "version": "3.10.12"
  },
  "orig_nbformat": 4
 },
 "nbformat": 4,
 "nbformat_minor": 2
}
