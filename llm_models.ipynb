{
 "cells": [
  {
   "cell_type": "code",
   "execution_count": 1,
   "metadata": {},
   "outputs": [],
   "source": [
    "import os\n",
    "from os.path import join, dirname\n",
    "from dotenv import load_dotenv\n",
    "from setuptools import setup\n",
    "\n",
    "from pathlib import Path\n",
    "\n",
    "cwd = Path().resolve()\n",
    "# or this\n",
    "cwd = Path.cwd()\n",
    "\n",
    "# dotenv_path = join(dirname(__file__), '.env')\n",
    "# print(dotenv_path)\n",
    "\n",
    "load_dotenv()\n",
    "\n",
    "OPENAI_API_KEY = os.environ.get(\"OPENAI_API_KEY\")\n",
    "ACTIVELOOP_TOKEN = os.environ.get(\"ACTIVELOOP_TOKEN\")\n",
    "GOOGLE_API_KEY=os.environ.get(\"GOOGLE_API_KEY\")\n",
    "GOOGLE_CSE_ID=os.environ.get(\"GOOGLE_CSE_ID\")\n",
    "HUGGINGFACEHUB_API_TOKEN=os.environ.get(\"HUGGINGFACEHUB_API_TOKEN\")\n",
    "# print(ACTIVELOOP_TOKEN)"
   ]
  },
  {
   "cell_type": "code",
   "execution_count": 2,
   "metadata": {},
   "outputs": [
    {
     "name": "stdout",
     "output_type": "stream",
     "text": [
      "\n",
      "\n",
      "Wireless Audio Solutions\n"
     ]
    }
   ],
   "source": [
    "\n",
    "from langchain.llms import OpenAI\n",
    "from langchain.chains import LLMChain\n",
    "from langchain.prompts import PromptTemplate\n",
    "\n",
    "# Before executing the following code, make sure to have\n",
    "# your OpenAI key saved in the “OPENAI_API_KEY” environment variable.\n",
    "llm = OpenAI(model_name=\"text-davinci-003\", temperature=0)\n",
    "\n",
    "prompt = PromptTemplate(\n",
    "  input_variables=[\"product\"],\n",
    "  template=\"What is a good name for a company that makes {product}?\",\n",
    ")\n",
    "\n",
    "chain = LLMChain(llm=llm, prompt=prompt)\n",
    "\n",
    "print( chain.run(\"wireless headphones\") )"
   ]
  },
  {
   "cell_type": "code",
   "execution_count": 3,
   "metadata": {},
   "outputs": [
    {
     "data": {
      "text/plain": [
       "AIMessage(content=\"J'adore la programmation.\", additional_kwargs={}, example=False)"
      ]
     },
     "execution_count": 3,
     "metadata": {},
     "output_type": "execute_result"
    }
   ],
   "source": [
    "from langchain.chat_models import ChatOpenAI\n",
    "from langchain.schema import (\n",
    "  HumanMessage,\n",
    "  SystemMessage\n",
    ")\n",
    "\n",
    "# chat = ChatOpenAI(model_name=\"gpt-4\", temperature=0)\n",
    "chat = ChatOpenAI(model_name=\"gpt-3.5-turbo\", temperature=0)\n",
    "\n",
    "messages = [\n",
    "\tSystemMessage(content=\"You are a helpful assistant that translates English to French.\"),\n",
    "\tHumanMessage(content=\"Translate the following sentence: I love programming.\")\n",
    "]\n",
    "\n",
    "chat(messages)"
   ]
  },
  {
   "cell_type": "code",
   "execution_count": 5,
   "metadata": {},
   "outputs": [
    {
     "name": "stdout",
     "output_type": "stream",
     "text": [
      "content='Paris, also known as the \"City of Light,\" is the capital and largest city of France. It is located in the north-central part of the country, in the region of Île-de-France. With a population of over 2 million inhabitants within the city limits and more than 12 million in the metropolitan area, Paris is considered one of the most populous cities in Europe.\\n\\nParis is renowned for its rich history, cultural heritage, and iconic landmarks. The city is home to numerous world-famous attractions, including the Eiffel Tower, Notre-Dame Cathedral, Louvre Museum, Arc de Triomphe, and Champs-Élysées. These landmarks attract millions of tourists each year, making Paris one of the most visited cities in the world.\\n\\nThe city is known for its picturesque neighborhoods, such as Montmartre, Marais, and Saint-Germain-des-Prés, each offering its unique charm and character. Paris is also famous for its vibrant arts scene, with numerous art galleries, theaters, and music venues scattered throughout the city.\\n\\nParis is celebrated for its cuisine and is considered a culinary capital. It is known for its wide range of gastronomic experiences, from charming cafes and patisseries to Michelin-starred restaurants. The city is also renowned for its fashion industry, with Paris Fashion Week being a significant event in the global fashion calendar.\\n\\nTransportation in Paris is well-developed, with an extensive network of metro lines, buses, and trains. The city is also served by two major international airports, Charles de Gaulle Airport and Orly Airport.\\n\\nOverall, Paris is a city that offers a unique blend of history, art, culture, and gastronomy, making it a popular destination for travelers from all around the world.' additional_kwargs={} example=False\n"
     ]
    }
   ],
   "source": [
    "from langchain.chat_models import ChatOpenAI\n",
    "from langchain.schema import (\n",
    "    SystemMessage,\n",
    "    HumanMessage,\n",
    "    AIMessage\n",
    ")\n",
    "\n",
    "messages = [\n",
    "    SystemMessage(content=\"You are a helpful assistant.\"),\n",
    "    HumanMessage(content=\"What is the capital of France?\"),\n",
    "    AIMessage(content=\"The capital of France is Paris.\")\n",
    "]\n",
    "\n",
    "prompt = HumanMessage(\n",
    "    content=\"I'd like to know more about the city you just mentioned.\"\n",
    ")\n",
    "# add to messages\n",
    "messages.append(prompt)\n",
    "\n",
    "# llm = ChatOpenAI(model_name=\"gpt-4\")\n",
    "llm = ChatOpenAI(model_name=\"gpt-3.5-turbo\")\n",
    "response = llm(messages)\n",
    "print(response)"
   ]
  }
 ],
 "metadata": {
  "kernelspec": {
   "display_name": "Python 3",
   "language": "python",
   "name": "python3"
  },
  "language_info": {
   "codemirror_mode": {
    "name": "ipython",
    "version": 3
   },
   "file_extension": ".py",
   "mimetype": "text/x-python",
   "name": "python",
   "nbconvert_exporter": "python",
   "pygments_lexer": "ipython3",
   "version": "3.10.6"
  },
  "orig_nbformat": 4
 },
 "nbformat": 4,
 "nbformat_minor": 2
}
